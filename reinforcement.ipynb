{
  "nbformat": 4,
  "nbformat_minor": 0,
  "metadata": {
    "colab": {
      "name": "reinforcement.ipynb",
      "provenance": []
    },
    "kernelspec": {
      "name": "python3",
      "display_name": "Python 3"
    },
    "language_info": {
      "name": "python"
    },
    "accelerator": "GPU"
  },
  "cells": [
    {
      "cell_type": "code",
      "execution_count": 89,
      "metadata": {
        "id": "zGW6RVZ5h987"
      },
      "outputs": [],
      "source": [
        "import pandas as pd\n",
        "\n",
        "df = pd.read_csv('https://raw.githubusercontent.com/MarkystarkDotCO/Deep-Reinforcement-python/main/dataset.csv')\n",
        "\n",
        "#df = df.to_frame()\n",
        "#df.head()"
      ]
    },
    {
      "cell_type": "code",
      "source": [
        "import numpy as np   \n",
        "from numpy import asarray"
      ],
      "metadata": {
        "id": "lcFw_6NAmbFT"
      },
      "execution_count": 90,
      "outputs": []
    },
    {
      "cell_type": "code",
      "source": [
        "df.shape[0]"
      ],
      "metadata": {
        "colab": {
          "base_uri": "https://localhost:8080/"
        },
        "id": "v3vmzhyMrTvS",
        "outputId": "fa7fc777-79b3-481c-fb9b-590b3a4d2bf6"
      },
      "execution_count": 91,
      "outputs": [
        {
          "output_type": "execute_result",
          "data": {
            "text/plain": [
              "19999"
            ]
          },
          "metadata": {},
          "execution_count": 91
        }
      ]
    },
    {
      "cell_type": "code",
      "source": [
        "y= df.iloc[ : , -1].to_frame()\n",
        "#print(type(y))\n",
        "#print(y)"
      ],
      "metadata": {
        "id": "iIkAup05Zv2U"
      },
      "execution_count": 92,
      "outputs": []
    },
    {
      "cell_type": "code",
      "source": [
        "x = df.iloc[:,:-1]\n",
        "\n",
        "#print(type(x))"
      ],
      "metadata": {
        "id": "GdJUxM7pbggb"
      },
      "execution_count": 93,
      "outputs": []
    },
    {
      "cell_type": "code",
      "source": [
        "print(x.shape) \n",
        "print(y.shape) "
      ],
      "metadata": {
        "colab": {
          "base_uri": "https://localhost:8080/"
        },
        "id": "V8d4JlbFdHjb",
        "outputId": "a3c3e3b4-2ee7-465a-b3c7-a078cd5267af"
      },
      "execution_count": 94,
      "outputs": [
        {
          "output_type": "stream",
          "name": "stdout",
          "text": [
            "(19999, 81)\n",
            "(19999, 1)\n"
          ]
        }
      ]
    },
    {
      "cell_type": "code",
      "source": [
        "x = np.array(x)\n",
        "print(x.size)\n",
        "print(x)\n"
      ],
      "metadata": {
        "colab": {
          "base_uri": "https://localhost:8080/"
        },
        "id": "bui2zXx0j9mA",
        "outputId": "4f513a73-03c6-476e-d1f1-df8688b603b4"
      },
      "execution_count": 95,
      "outputs": [
        {
          "output_type": "stream",
          "name": "stdout",
          "text": [
            "1619919\n",
            "[[1 0 0 ... 1 0 0]\n",
            " [1 0 0 ... 2 1 1]\n",
            " [1 0 0 ... 1 1 2]\n",
            " ...\n",
            " [1 0 0 ... 2 1 1]\n",
            " [1 0 0 ... 2 0 1]\n",
            " [1 0 0 ... 2 0 1]]\n"
          ]
        }
      ]
    },
    {
      "cell_type": "code",
      "source": [
        "\n",
        "y= np.array(y)\n",
        "\n",
        "print(y.size)\n",
        "print(y)"
      ],
      "metadata": {
        "colab": {
          "base_uri": "https://localhost:8080/"
        },
        "id": "QMqUwvL7k0Yx",
        "outputId": "c8e5f799-d574-4a3e-f466-efe79180f9d2"
      },
      "execution_count": 96,
      "outputs": [
        {
          "output_type": "stream",
          "name": "stdout",
          "text": [
            "19999\n",
            "[[1]\n",
            " [1]\n",
            " [1]\n",
            " ...\n",
            " [1]\n",
            " [2]\n",
            " [2]]\n"
          ]
        }
      ]
    },
    {
      "cell_type": "code",
      "source": [
        "#from sklearn.datasets import load_boston\n",
        "from keras.models import Sequential\n",
        "from keras.layers import Dense, Conv1D, Flatten, MaxPooling1D\n",
        "from sklearn.model_selection import train_test_split\n",
        "from sklearn.metrics import mean_squared_error\n",
        "#import matplotlib.pyplot as plt\n",
        "from sklearn.metrics import confusion_matrix\n",
        "\n",
        "#boston = load_boston()\n",
        "#x, y = boston.data, boston.target\n",
        "#print(x.shape)\n",
        "\n",
        "#x = x.reshape(x.shape[0], x.shape[1], 1)\n",
        "#print(x.shape)\n",
        "\n",
        "xtrain, xtest, ytrain, ytest = train_test_split(x, y, test_size=0.15)\n",
        "\n",
        "model = Sequential()\n",
        "model.add(Conv1D(64, 2, activation=\"relu\", input_shape=(81,1)))\n",
        "model.add(Dense(16, activation=\"relu\"))\n",
        "model.add(MaxPooling1D())\n",
        "model.add(Flatten())\n",
        "model.add(Dense(3, activation = 'softmax'))\n",
        "\n",
        "\n",
        "model.compile(loss = 'sparse_categorical_crossentropy', \n",
        "     optimizer = \"adam\",               \n",
        "              metrics = ['accuracy'])\n",
        "\n",
        "model.summary()\n",
        "model.fit(xtrain, ytrain, batch_size=16,epochs=100, verbose=0)\n",
        "\n",
        "acc = model.evaluate(xtrain, ytrain)\n",
        "print(\"Loss:\", acc[0], \" Accuracy:\", acc[1])\n",
        "\n",
        "pred = model.predict(xtest)\n",
        "\n",
        "pred_y = pred.argmax(axis=-1)\n",
        "\n",
        "cm = confusion_matrix(ytest, pred_y)\n",
        "print(cm)\n",
        "\n",
        "print(\" y test is\", ytest[1])\n",
        "print(\"y predicted is \", pred[1])"
      ],
      "metadata": {
        "colab": {
          "base_uri": "https://localhost:8080/"
        },
        "id": "eWJgvio2d0Zo",
        "outputId": "a998d4fa-5b28-472a-85e8-92b5d909c6d0"
      },
      "execution_count": null,
      "outputs": [
        {
          "output_type": "stream",
          "name": "stdout",
          "text": [
            "Model: \"sequential_8\"\n",
            "_________________________________________________________________\n",
            " Layer (type)                Output Shape              Param #   \n",
            "=================================================================\n",
            " conv1d_13 (Conv1D)          (None, 80, 64)            192       \n",
            "                                                                 \n",
            " dense_21 (Dense)            (None, 80, 16)            1040      \n",
            "                                                                 \n",
            " max_pooling1d_13 (MaxPoolin  (None, 40, 16)           0         \n",
            " g1D)                                                            \n",
            "                                                                 \n",
            " flatten_8 (Flatten)         (None, 640)               0         \n",
            "                                                                 \n",
            " dense_22 (Dense)            (None, 3)                 1923      \n",
            "                                                                 \n",
            "=================================================================\n",
            "Total params: 3,155\n",
            "Trainable params: 3,155\n",
            "Non-trainable params: 0\n",
            "_________________________________________________________________\n"
          ]
        }
      ]
    },
    {
      "cell_type": "code",
      "source": [
        "test_index = 2000\n",
        "\n",
        "print(\"x test is   :::\", xtest[test_index])\n",
        "print(\" y test is   :::\", ytest[test_index])\n",
        "\n",
        "max_value = np.max(pred[test_index])\n",
        "\n",
        "predited_y = np.argmax(pred[test_index])\n",
        "print(\"y predict is    :::\", predited_y)\n"
      ],
      "metadata": {
        "id": "hZtrdgF9H7Nq"
      },
      "execution_count": null,
      "outputs": []
    },
    {
      "cell_type": "code",
      "source": [
        "table = xtest[:1]\n",
        "\n",
        "write =\"\"\n",
        "raw = 71\n",
        "for i in range(9):\n",
        "  #print(table[0,raw])\n",
        "  raw = raw+1\n",
        "  write = write +\"    \"+str(table[0,raw])\n",
        "  if i ==2 or i==5 or i==8:\n",
        "    write = write +\"\\n\"\n",
        "\n",
        "print(write)\n"
      ],
      "metadata": {
        "id": "uHhE39ssJxb6"
      },
      "execution_count": null,
      "outputs": []
    }
  ]
}